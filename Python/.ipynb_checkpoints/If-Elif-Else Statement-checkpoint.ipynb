{
 "cells": [
  {
   "cell_type": "markdown",
   "id": "d774cc05",
   "metadata": {},
   "source": [
    "# If-Elif-Else Statement"
   ]
  },
  {
   "cell_type": "code",
   "execution_count": 1,
   "id": "242d8a46",
   "metadata": {},
   "outputs": [
    {
     "name": "stdout",
     "output_type": "stream",
     "text": [
      "It worked!\n"
     ]
    }
   ],
   "source": [
    "if 25 > 10 :\n",
    "    print('It worked!')"
   ]
  },
  {
   "cell_type": "code",
   "execution_count": 2,
   "id": "7674aa85",
   "metadata": {},
   "outputs": [],
   "source": [
    "if 25 < 10 :\n",
    "    print('It worked!')"
   ]
  },
  {
   "cell_type": "code",
   "execution_count": 4,
   "id": "d689b63c",
   "metadata": {},
   "outputs": [
    {
     "name": "stdout",
     "output_type": "stream",
     "text": [
      "It did not work...\n"
     ]
    }
   ],
   "source": [
    "if 25 < 10 :\n",
    "    print('It worked!')\n",
    "else:\n",
    "    print('It did not work...')"
   ]
  },
  {
   "cell_type": "code",
   "execution_count": 5,
   "id": "9900c1a1",
   "metadata": {},
   "outputs": [
    {
     "name": "stdout",
     "output_type": "stream",
     "text": [
      "It worked!\n"
     ]
    }
   ],
   "source": [
    "if 25 > 10 :\n",
    "    print('It worked!')\n",
    "else:\n",
    "    print('It did not work...')"
   ]
  },
  {
   "cell_type": "code",
   "execution_count": 6,
   "id": "833a2068",
   "metadata": {},
   "outputs": [
    {
     "name": "stdout",
     "output_type": "stream",
     "text": [
      "Elif worked!\n"
     ]
    }
   ],
   "source": [
    "if 25 < 10 :\n",
    "    print('It worked!')\n",
    "elif 25 < 30:\n",
    "    print ('Elif worked!')\n",
    "else:\n",
    "    print('It did not work...')"
   ]
  },
  {
   "cell_type": "code",
   "execution_count": 8,
   "id": "09718722",
   "metadata": {},
   "outputs": [
    {
     "name": "stdout",
     "output_type": "stream",
     "text": [
      "Elif 3 worked!\n"
     ]
    }
   ],
   "source": [
    "if 25 < 10 :\n",
    "    print('It worked!')\n",
    "elif 25 < 20:\n",
    "    print ('Elif worked!')\n",
    "elif 25 < 21:\n",
    "    print ('Elif 2 worked!')\n",
    "elif 25 < 40:\n",
    "    print ('Elif 3 worked!')\n",
    "elif 25 < 50:\n",
    "    print ('Elif 5 worked!')\n",
    "else:\n",
    "    print('It did not work...')"
   ]
  },
  {
   "cell_type": "code",
   "execution_count": 9,
   "id": "8aeca1a7",
   "metadata": {},
   "outputs": [
    {
     "name": "stdout",
     "output_type": "stream",
     "text": [
      "It worked!\n"
     ]
    }
   ],
   "source": [
    "if 25 < 10 or 1 < 3:\n",
    "    print('It worked!')\n",
    "elif 25 < 20:\n",
    "    print ('Elif worked!')\n",
    "elif 25 < 21:\n",
    "    print ('Elif 2 worked!')\n",
    "elif 25 < 40:\n",
    "    print ('Elif 3 worked!')\n",
    "elif 25 < 50:\n",
    "    print ('Elif 5 worked!')\n",
    "else:\n",
    "    print('It did not work...')"
   ]
  },
  {
   "cell_type": "code",
   "execution_count": 10,
   "id": "620e834d",
   "metadata": {},
   "outputs": [
    {
     "name": "stdout",
     "output_type": "stream",
     "text": [
      "It did not work...\n"
     ]
    }
   ],
   "source": [
    "print ('It worked!') if 10 > 30 else print('It did not work...')"
   ]
  },
  {
   "cell_type": "code",
   "execution_count": 11,
   "id": "9dcb1e6b",
   "metadata": {},
   "outputs": [
    {
     "name": "stdout",
     "output_type": "stream",
     "text": [
      "It worked!\n",
      "This nested if statement worked!\n"
     ]
    }
   ],
   "source": [
    "if 25 < 10 or 1 < 3:\n",
    "    print('It worked!')\n",
    "    if 10 > 5:\n",
    "        print ('This nested if statement worked!')\n",
    "elif 25 < 20:\n",
    "    print ('Elif worked!')\n",
    "elif 25 < 21:\n",
    "    print ('Elif 2 worked!')\n",
    "elif 25 < 40:\n",
    "    print ('Elif 3 worked!')\n",
    "elif 25 < 50:\n",
    "    print ('Elif 5 worked!')\n",
    "else:\n",
    "    print('It did not work...')"
   ]
  },
  {
   "cell_type": "code",
   "execution_count": null,
   "id": "55e834e7",
   "metadata": {},
   "outputs": [],
   "source": []
  }
 ],
 "metadata": {
  "kernelspec": {
   "display_name": "Python 3 (ipykernel)",
   "language": "python",
   "name": "python3"
  },
  "language_info": {
   "codemirror_mode": {
    "name": "ipython",
    "version": 3
   },
   "file_extension": ".py",
   "mimetype": "text/x-python",
   "name": "python",
   "nbconvert_exporter": "python",
   "pygments_lexer": "ipython3",
   "version": "3.11.5"
  }
 },
 "nbformat": 4,
 "nbformat_minor": 5
}
